{
 "cells": [
  {
   "cell_type": "code",
   "execution_count": null,
   "id": "1d0cd547",
   "metadata": {},
   "outputs": [],
   "source": []
  },
  {
   "cell_type": "code",
   "execution_count": 11,
   "id": "2cbb9a2b",
   "metadata": {},
   "outputs": [
    {
     "name": "stdout",
     "output_type": "stream",
     "text": [
      "Kinetic Energy (T):\n"
     ]
    },
    {
     "data": {
      "image/png": "[encoded data removed]",
      "text/latex": [
       "$\\displaystyle \\frac{m \\left(r^{2}{\\left(t \\right)} \\left(\\frac{d}{d t} \\theta{\\left(t \\right)}\\right)^{2} + \\left(\\frac{d}{d t} r{\\left(t \\right)}\\right)^{2}\\right)}{2}$"
      ],
      "text/plain": [
       "  ⎛                2             2⎞\n",
       "  ⎜ 2    ⎛d       ⎞    ⎛d       ⎞ ⎟\n",
       "m⋅⎜r (t)⋅⎜──(θ(t))⎟  + ⎜──(r(t))⎟ ⎟\n",
       "  ⎝      ⎝dt      ⎠    ⎝dt      ⎠ ⎠\n",
       "───────────────────────────────────\n",
       "                 2                 "
      ]
     },
     "metadata": {},
     "output_type": "display_data"
    },
    {
     "name": "stdout",
     "output_type": "stream",
     "text": [
      "\n",
      "Potential Energy (V):\n"
     ]
    },
    {
     "data": {
      "image/png": "[encoded data removed]",
      "text/latex": [
       "$\\displaystyle - g m r{\\left(t \\right)} \\cos{\\left(\\theta{\\left(t \\right)} \\right)} + \\frac{k \\left(- l + r{\\left(t \\right)}\\right)^{2}}{2}$"
      ],
      "text/plain": [
       "                                   2\n",
       "                      k⋅(-l + r(t)) \n",
       "-g⋅m⋅r(t)⋅cos(θ(t)) + ──────────────\n",
       "                            2       "
      ]
     },
     "metadata": {},
     "output_type": "display_data"
    },
    {
     "name": "stdout",
     "output_type": "stream",
     "text": [
      "\n",
      "Lagrangian (L):\n"
     ]
    },
    {
     "data": {
      "image/png": "[encoded data removed]",
      "text/latex": [
       "$\\displaystyle g m r{\\left(t \\right)} \\cos{\\left(\\theta{\\left(t \\right)} \\right)} - \\frac{k \\left(- l + r{\\left(t \\right)}\\right)^{2}}{2} + \\frac{m \\left(r^{2}{\\left(t \\right)} \\left(\\frac{d}{d t} \\theta{\\left(t \\right)}\\right)^{2} + \\left(\\frac{d}{d t} r{\\left(t \\right)}\\right)^{2}\\right)}{2}$"
      ],
      "text/plain": [
       "                                        ⎛                2             2⎞\n",
       "                                        ⎜ 2    ⎛d       ⎞    ⎛d       ⎞ ⎟\n",
       "                                  2   m⋅⎜r (t)⋅⎜──(θ(t))⎟  + ⎜──(r(t))⎟ ⎟\n",
       "                     k⋅(-l + r(t))      ⎝      ⎝dt      ⎠    ⎝dt      ⎠ ⎠\n",
       "g⋅m⋅r(t)⋅cos(θ(t)) - ────────────── + ───────────────────────────────────\n",
       "                           2                           2                 "
      ]
     },
     "metadata": {},
     "output_type": "display_data"
    },
    {
     "name": "stdout",
     "output_type": "stream",
     "text": [
      "\n",
      "Equation of motion for r:\n"
     ]
    },
    {
     "data": {
      "image/png": "[encoded data removed]",
      "text/latex": [
       "$\\displaystyle - g m \\cos{\\left(\\theta{\\left(t \\right)} \\right)} - k \\left(l - r{\\left(t \\right)}\\right) - m r{\\left(t \\right)} \\left(\\frac{d}{d t} \\theta{\\left(t \\right)}\\right)^{2} + m \\frac{d^{2}}{d t^{2}} r{\\left(t \\right)}$"
      ],
      "text/plain": [
       "                                                 2       2      \n",
       "                                       ⎛d       ⎞       d       \n",
       "-g⋅m⋅cos(θ(t)) - k⋅(l - r(t)) - m⋅r(t)⋅⎜──(θ(t))⎟  + m⋅───(r(t))\n",
       "                                       ⎝dt      ⎠        2      \n",
       "                                                       dt       "
      ]
     },
     "metadata": {},
     "output_type": "display_data"
    },
    {
     "name": "stdout",
     "output_type": "stream",
     "text": [
      "\n",
      "Equation of motion for θ:\n"
     ]
    },
    {
     "data": {
      "image/png": "[encoded data removed]",
      "text/latex": [
       "$\\displaystyle m \\left(g \\sin{\\left(\\theta{\\left(t \\right)} \\right)} + r{\\left(t \\right)} \\frac{d^{2}}{d t^{2}} \\theta{\\left(t \\right)} + 2 \\frac{d}{d t} r{\\left(t \\right)} \\frac{d}{d t} \\theta{\\left(t \\right)}\\right) r{\\left(t \\right)}$"
      ],
      "text/plain": [
       "  ⎛                     2                            ⎞     \n",
       "  ⎜                    d            d        d       ⎟     \n",
       "m⋅⎜g⋅sin(θ(t)) + r(t)⋅───(θ(t)) + 2⋅──(r(t))⋅──(θ(t))⎟⋅r(t)\n",
       "  ⎜                     2           dt       dt      ⎟     \n",
       "  ⎝                   dt                             ⎠     "
      ]
     },
     "metadata": {},
     "output_type": "display_data"
    },
    {
     "name": "stdout",
     "output_type": "stream",
     "text": [
      "\n",
      "Angular momentum L_dot_theta:\n"
     ]
    },
    {
     "data": {
      "image/png": "[encoded data removed]",
      "text/latex": [
       "$\\displaystyle m r^{2}{\\left(t \\right)} \\frac{d}{d t} \\theta{\\left(t \\right)}$"
      ],
      "text/plain": [
       "   2    d       \n",
       "m⋅r (t)⋅──(θ(t))\n",
       "        dt      "
      ]
     },
     "metadata": {},
     "output_type": "display_data"
    },
    {
     "name": "stdout",
     "output_type": "stream",
     "text": [
      "\n",
      "Time derivative of angular momentum:\n"
     ]
    },
    {
     "data": {
      "image/png": "[encoded data removed]",
      "text/latex": [
       "$\\displaystyle m \\left(r{\\left(t \\right)} \\frac{d^{2}}{d t^{2}} \\theta{\\left(t \\right)} + 2 \\frac{d}{d t} r{\\left(t \\right)} \\frac{d}{d t} \\theta{\\left(t \\right)}\\right) r{\\left(t \\right)}$"
      ],
      "text/plain": [
       "  ⎛       2                            ⎞     \n",
       "  ⎜      d            d        d       ⎟     \n",
       "m⋅⎜r(t)⋅───(θ(t)) + 2⋅──(r(t))⋅──(θ(t))⎟⋅r(t)\n",
       "  ⎜       2           dt       dt      ⎟     \n",
       "  ⎝     dt                             ⎠     "
      ]
     },
     "metadata": {},
     "output_type": "display_data"
    }
   ],
   "source": [
    "from sympy import symbols, Function, diff, simplify, Rational, integrate, cos\n",
    "from sympy.physics.mechanics import dynamicsymbols\n",
    "from sympy import init_printing\n",
    "import sympy\n",
    "\n",
    "# Initialize printing\n",
    "init_printing(use_unicode=True)\n",
    "\n",
    "# Define symbols\n",
    "m, k, g, l, t = symbols('m k g l t')\n",
    "r, theta = dynamicsymbols('r theta')\n",
    "\n",
    "# Define the derivatives with respect to time\n",
    "r_dot = dynamicsymbols('r', 1)\n",
    "theta_dot = dynamicsymbols('theta', 1)\n",
    "\n",
    "\n",
    "# Kinetic energy\n",
    "T = Rational(1, 2) * m * (r_dot**2 + r**2 * theta_dot**2)\n",
    "\n",
    "\n",
    "# Potential energy\n",
    "V = -m * g * r * cos(theta) + Rational(1, 2) * k * (r - l)**2\n",
    "\n",
    "\n",
    "# Lagrangian\n",
    "L = T - V\n",
    "\n",
    "# Print kinetic energy, potential energy, and Lagrangian\n",
    "\n",
    "print(\"Kinetic Energy (T):\")\n",
    "display(T)\n",
    "print(\"\\nPotential Energy (V):\")\n",
    "display(V)\n",
    "print(\"\\nLagrangian (L):\")\n",
    "display(L)\n",
    "\n",
    "# Euler-Lagrange equation for r\n",
    "L_r = diff(diff(L, r_dot), t) - diff(L, r) \n",
    "L_r = simplify(L_r)\n",
    "\n",
    "# Euler-Lagrange equation for theta\n",
    "L_theta = diff(diff(L, theta_dot), t) - diff(L, theta) \n",
    "L_theta = simplify(L_theta)\n",
    "\n",
    "# Print equations of motion\n",
    "print(\"\\nEquation of motion for r:\")\n",
    "display(L_r)\n",
    "\n",
    "print(\"\\nEquation of motion for θ:\")\n",
    "display(L_theta)\n",
    "\n",
    "# Angular momentum\n",
    "L_dot_theta = diff(L, theta_dot)\n",
    "L_dot_theta = simplify(L_dot_theta)\n",
    "\n",
    "# Time derivative of angular momentum\n",
    "angular_momentum_derivative = diff(L_dot_theta, t)\n",
    "angular_momentum_derivative = simplify(angular_momentum_derivative)\n",
    "\n",
    "# Print angular momentum and its time derivative\n",
    "print(\"\\nAngular momentum L_dot_theta:\")\n",
    "display(L_dot_theta)\n",
    "\n",
    "print(\"\\nTime derivative of angular momentum:\")\n",
    "display(angular_momentum_derivative)\n"
   ]
  },
  {
   "cell_type": "code",
   "execution_count": null,
   "id": "6632d0ab",
   "metadata": {},
   "outputs": [],
   "source": []
  },
  {
   "cell_type": "code",
   "execution_count": null,
   "id": "5c362a8a",
   "metadata": {},
   "outputs": [],
   "source": []
  }
 ],
 "metadata": {
  "kernelspec": {
   "display_name": "Python 3 (ipykernel)",
   "language": "python",
   "name": "python3"
  },
  "language_info": {
   "codemirror_mode": {
    "name": "ipython",
    "version": 3
   },
   "file_extension": ".py",
   "mimetype": "text/x-python",
   "name": "python",
   "nbconvert_exporter": "python",
   "pygments_lexer": "ipython3",
   "version": "3.11.5"
  }
 },
 "nbformat": 4,
 "nbformat_minor": 5
}
